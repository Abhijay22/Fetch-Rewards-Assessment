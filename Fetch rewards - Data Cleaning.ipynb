{
 "cells": [
  {
   "cell_type": "code",
   "execution_count": 2,
   "metadata": {},
   "outputs": [],
   "source": [
    "import pandas as pd\n",
    "import json"
   ]
  },
  {
   "cell_type": "code",
   "execution_count": 3,
   "metadata": {},
   "outputs": [],
   "source": [
    "# Code to add commas between json objects\n",
    "\n",
    "parser = json.JSONDecoder()\n",
    "parsed = []  # a list to hold individually parsed JSON structures\n",
    "with open('users.json') as f:\n",
    "    data = f.read()\n",
    "head = 0  # hold the current position as we parse\n",
    "while True:\n",
    "    head = (data.find('{', head) + 1 or data.find('[', head) + 1) - 1\n",
    "    try:\n",
    "        struct, head = parser.raw_decode(data, head)\n",
    "        parsed.append(struct)\n",
    "    except (ValueError, json.JSONDecodeError):  # no more valid JSON structures\n",
    "        break"
   ]
  },
  {
   "cell_type": "code",
   "execution_count": 33,
   "metadata": {},
   "outputs": [],
   "source": [
    "# Output the new file with commas between objects\n",
    "parsed_brands = json.dumps(parsed)\n",
    "with open('users_data.txt', 'w') as f:\n",
    "    f.writelines(parsed_brands)"
   ]
  },
  {
   "cell_type": "code",
   "execution_count": 5,
   "metadata": {},
   "outputs": [],
   "source": [
    "# Code to replace '$' with ''\n",
    "with open('brands_data.txt', 'r') as file :\n",
    "  filedata = file.read()\n",
    "\n",
    "filedata = filedata.replace('$', '')\n",
    "\n",
    "with open('brands_data_v2.txt', 'w') as file:\n",
    "  file.write(filedata)"
   ]
  }
 ],
 "metadata": {
  "kernelspec": {
   "display_name": "Python 3",
   "language": "python",
   "name": "python3"
  },
  "language_info": {
   "codemirror_mode": {
    "name": "ipython",
    "version": 3
   },
   "file_extension": ".py",
   "mimetype": "text/x-python",
   "name": "python",
   "nbconvert_exporter": "python",
   "pygments_lexer": "ipython3",
   "version": "3.7.1"
  }
 },
 "nbformat": 4,
 "nbformat_minor": 2
}
